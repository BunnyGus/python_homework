{
 "cells": [
  {
   "cell_type": "markdown",
   "metadata": {},
   "source": [
    "# แบบฝึกหัด บทที่ 7 โครงสร้างควบคุม"
   ]
  },
  {
   "cell_type": "code",
   "execution_count": null,
   "metadata": {},
   "outputs": [],
   "source": [
    "\"\"\"\n",
    "นาย นิลรักษ์ บุตรโพธิ์ศรี 6712732130 \n",
    "\n",
    "\n",
    "\"\"\""
   ]
  },
  {
   "cell_type": "markdown",
   "metadata": {},
   "source": [
    "## 1.\tจงเขียนโปรแกรมเพื่อให้ได้ผลลัพธ์ดังต่อไปนี้\n",
    "\n",
    "เพื่อให้ผู้ใช้ป้อนเลขจำนวนเต็ม 3 ค่า ประกอบไปด้วย : (f)rom, (t)o และ (i)ncrement \n",
    "\n",
    "โดยโปรแกรมรับค่าทั้ง 3 เข้ามาเพื่อทำการคำนวณเพื่อสร้างเลขลำดับโดยเริ่มต้นจาก f ไปจนถึง t \n",
    "\n",
    "และจะเพิ่มจำนวนตามค่า i เช่นถ้า input เป็น f == 2, t == 26 และ i == 4 โปรแกรมจะแสดงผล: 2, 6, 10, 14, 18, 22, 26"
   ]
  },
  {
   "cell_type": "code",
   "execution_count": 3,
   "metadata": {},
   "outputs": [
    {
     "name": "stdin",
     "output_type": "stream",
     "text": [
      "ป้อนค่า f (เริ่มต้น):  2\n",
      "ป้อนค่า t (สิ้นสุด):  26\n",
      "ป้อนค่า i (การเพิ่ม):  4\n"
     ]
    },
    {
     "name": "stdout",
     "output_type": "stream",
     "text": [
      "ลำดับเลขที่ได้: 2, 6, 10, 14, 18, 22, 26\n"
     ]
    }
   ],
   "source": [
    "\n",
    "f = int(input(\"ป้อนค่า f (เริ่มต้น): \"))\n",
    "t = int(input(\"ป้อนค่า t (สิ้นสุด): \"))\n",
    "i = int(input(\"ป้อนค่า i (การเพิ่ม): \"))\n",
    "\n",
    "sequence = list(range(f, t + 1, i))\n",
    "\n",
    "print(\"ลำดับเลขที่ได้: \", end=\"\")\n",
    "print(*sequence, sep=\", \")\n",
    "\n"
   ]
  },
  {
   "cell_type": "markdown",
   "metadata": {},
   "source": [
    "## 2.จงเขียนโปรแกรมเพื่อให้ได้ผลลัพธ์ดังต่อไปนี้\n",
    "\n",
    "จงเขียนโปรแกรมเพื่อหาจำนวนแฟกทอเรียล (Factorial) โดยใช้การวนซ้ำ \n",
    "\n",
    "โดยกำหนดให้ผู้ใช้ป้อนค่าจำนวนเต็ม 1 ตัวและนำค่านั้นมาหาค่าแฟกทอเรียล เช่น input = 5 \n",
    "\n",
    "โปรแกรมจะทำการคำนวณ 5 * 4 * 3 * 2 * 1 เท่ากับ 12"
   ]
  },
  {
   "cell_type": "code",
   "execution_count": 6,
   "metadata": {},
   "outputs": [
    {
     "name": "stdin",
     "output_type": "stream",
     "text": [
      "ป้อนจำนวนเต็มเพื่อหาค่าแฟกทอเรียล:  5\n"
     ]
    },
    {
     "name": "stdout",
     "output_type": "stream",
     "text": [
      "แฟกทอเรียลของ 5 คือ 120\n"
     ]
    }
   ],
   "source": [
    "\n",
    "n = int(input(\"ป้อนจำนวนเต็มเพื่อหาค่าแฟกทอเรียล: \"))\n",
    "\n",
    "\n",
    "factorial = 1\n",
    "\n",
    "for i in range(1, n + 1):\n",
    "    factorial *= i\n",
    "\n",
    "print(f\"แฟกทอเรียลของ {n} คือ {factorial}\")\n"
   ]
  },
  {
   "cell_type": "markdown",
   "metadata": {},
   "source": [
    "## 3.จงเขียนโปรแกรมเพื่อให้ได้ผลลัพธ์ดังต่อไปนี้\n",
    "\n",
    "ทำเขียนโปรแกรมโดยใช้การทำงานวนซ้ำ เพื่อค้นหาจำนวนเฉพาะที่อยู่ในช่วงตัวเลข 1 จนถึง 100 \n",
    "\n",
    "และทำการแสดงผลจำนวนเฉพาะทั้งหมดที่ค้นพบในช่วงตัวเลขออกมาทางหน้าจอ"
   ]
  },
  {
   "cell_type": "code",
   "execution_count": 7,
   "metadata": {},
   "outputs": [
    {
     "name": "stdout",
     "output_type": "stream",
     "text": [
      "2, 3, 5, 7, 11, 13, 17, 19, 23, 29, 31, 37, 41, 43, 47, 53, 59, 61, 67, 71, 73, 79, 83, 89, 97, "
     ]
    }
   ],
   "source": [
    "\n",
    "1.\n",
    "for i in range(2, 101):  \n",
    "\n",
    "    flag = True\n",
    "\n",
    "    for j in range(2, i):\n",
    " \n",
    "        if i % j == 0:  \n",
    "      \n",
    "            flag = False\n",
    "            break  \n",
    "    \n",
    "  \n",
    "    if flag:\n",
    "        print(i, end=\", \")\n",
    "\n"
   ]
  },
  {
   "cell_type": "markdown",
   "metadata": {},
   "source": [
    "## 4.\tจงเขียนโปรแกรมเพื่อให้ได้ผลลัพธ์ดังต่อไปนี้ "
   ]
  },
  {
   "cell_type": "code",
   "execution_count": 20,
   "metadata": {},
   "outputs": [
    {
     "name": "stdout",
     "output_type": "stream",
     "text": [
      "* \n",
      "* * \n",
      "* * * \n",
      "* * * * \n",
      "* * * * * \n",
      "* * * * \n",
      "* * * \n",
      "* * \n",
      "* \n"
     ]
    }
   ],
   "source": [
    "\"\"\"\n",
    "* \n",
    "* * \n",
    "* * * \n",
    "* * * * \n",
    "* * * * * \n",
    "* * * * \n",
    "* * * \n",
    "* * \n",
    "*\n",
    "\"\"\"\n",
    "for i in range(1,6):\n",
    "    print('* ' *i)\n",
    "\n",
    "for i in range(4, 0, -1):\n",
    "    print('* ' * i)\n"
   ]
  },
  {
   "cell_type": "markdown",
   "metadata": {},
   "source": []
  },
  {
   "cell_type": "markdown",
   "metadata": {},
   "source": [
    "## 5. จงเขียนโปรแกรมเพื่อให้ได้ผลลัพธ์ดังต่อไปนี้ \n",
    "\n",
    "จงเขียนโปรแกรมที่พิมพ์ตัวเลขตั้งแต่ 1 ถึง 100 ยกเว้นตัวเลขที่หารด้วย 3 ลงตัว \n",
    "\n",
    "โดยให้ใช้คำสั่ง continue เช่น 1 2 4 5 7 8 10 11 … เป็นต้น"
   ]
  },
  {
   "cell_type": "code",
   "execution_count": 36,
   "metadata": {},
   "outputs": [
    {
     "name": "stdout",
     "output_type": "stream",
     "text": [
      "1 2 4 5 7 8 10 11 13 14 16 17 19 20 22 23 25 26 28 29 31 32 34 35 37 38 40 41 43 44 46 47 49 50 52 53 55 56 58 59 61 62 64 65 67 68 70 71 73 74 76 77 79 80 82 83 85 86 88 89 91 92 94 95 97 98 100 "
     ]
    }
   ],
   "source": [
    "for num in range(1, 101):\n",
    "    if num % 3 == 0:\n",
    "        continue\n",
    "    print(num, end =\" \")"
   ]
  },
  {
   "cell_type": "markdown",
   "metadata": {},
   "source": [
    "## 6.จงเขียนโปรแกรมเพื่อให้ได้ผลลัพธ์ดังต่อไปนี้\n",
    "\n",
    "จงเขียนโปรแกรมที่แสดงเลขจำนวน 1 ถึง 50 โดยสำหรับเลขจำนวนใดที่หารด้วย 3 ลงตัวให้พิมพ์ Fizz \n",
    "\n",
    "และเลขจำนวนใดที่หารด้วย 5 ลงตัวให้พิมพ์ Buzz และเลขใดที่หารลงตัวทั้ง 3 และ 5 ให้พิมพ์ FizzBuzz "
   ]
  },
  {
   "cell_type": "code",
   "execution_count": 34,
   "metadata": {},
   "outputs": [
    {
     "name": "stdout",
     "output_type": "stream",
     "text": [
      "1\n",
      "2\n",
      "Fizz\n",
      "4\n",
      "Buzz\n",
      "Fizz\n",
      "7\n",
      "8\n",
      "Fizz\n",
      "Buzz\n",
      "11\n",
      "Fizz\n",
      "13\n",
      "14\n",
      "FizzBuzz\n",
      "16\n",
      "17\n",
      "Fizz\n",
      "19\n",
      "Buzz\n",
      "Fizz\n",
      "22\n",
      "23\n",
      "Fizz\n",
      "Buzz\n",
      "26\n",
      "Fizz\n",
      "28\n",
      "29\n",
      "FizzBuzz\n",
      "31\n",
      "32\n",
      "Fizz\n",
      "34\n",
      "Buzz\n",
      "Fizz\n",
      "37\n",
      "38\n",
      "Fizz\n",
      "Buzz\n",
      "41\n",
      "Fizz\n",
      "43\n",
      "44\n",
      "FizzBuzz\n",
      "46\n",
      "47\n",
      "Fizz\n",
      "49\n",
      "Buzz\n"
     ]
    }
   ],
   "source": [
    "for num in range (1, 51):\n",
    "    if num % 3 == 0 and num % 5 == 0:\n",
    "        print(\"FizzBuzz\")\n",
    "    elif num % 3 == 0:\n",
    "        print(\"Fizz\")\n",
    "    elif num % 5 == 0:\n",
    "        print(\"Buzz\")\n",
    "    else:\n",
    "        print(num)\n"
   ]
  },
  {
   "cell_type": "markdown",
   "metadata": {},
   "source": [
    "## 7.จงเขียนโปรแกรมเพื่อให้ได้ผลลัพธ์ดังต่อไปนี้\n",
    "\n",
    "จงเขียนโปรแกรมเพื่อแสดงรูปแบบต่อไปนี้ โดยการรับค่าจำนวนสูงสุดจากผู้ใช้"
   ]
  },
  {
   "cell_type": "code",
   "execution_count": 15,
   "metadata": {},
   "outputs": [
    {
     "name": "stdin",
     "output_type": "stream",
     "text": [
      "ป้อนตัวเลข :  9\n"
     ]
    },
    {
     "name": "stdout",
     "output_type": "stream",
     "text": [
      "1\n",
      "22\n",
      "333\n",
      "4444\n",
      "55555\n",
      "666666\n",
      "7777777\n",
      "88888888\n",
      "999999999\n"
     ]
    }
   ],
   "source": [
    "num = int(input(\"ป้อนตัวเลข : \"))\n",
    "\n",
    "for i in range(1, num + 1):\n",
    "    print(str(i) * i)\n",
    "\n"
   ]
  },
  {
   "cell_type": "code",
   "execution_count": null,
   "metadata": {},
   "outputs": [],
   "source": []
  },
  {
   "cell_type": "code",
   "execution_count": null,
   "metadata": {},
   "outputs": [],
   "source": []
  }
 ],
 "metadata": {
  "interpreter": {
   "hash": "40d3a090f54c6569ab1632332b64b2c03c39dcf918b08424e98f38b5ae0af88f"
  },
  "kernelspec": {
   "display_name": "Python 3 (ipykernel)",
   "language": "python",
   "name": "python3"
  },
  "language_info": {
   "codemirror_mode": {
    "name": "ipython",
    "version": 3
   },
   "file_extension": ".py",
   "mimetype": "text/x-python",
   "name": "python",
   "nbconvert_exporter": "python",
   "pygments_lexer": "ipython3",
   "version": "3.13.0"
  }
 },
 "nbformat": 4,
 "nbformat_minor": 4
}
