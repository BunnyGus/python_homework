{
 "cells": [
  {
   "cell_type": "markdown",
   "id": "156be75a-8e40-4c66-a3be-2aec69c8a68f",
   "metadata": {},
   "source": [
    "นาย นิลรักษ์ บุตรโพธิ์ศรี\n",
    "\n",
    "เลขที่ 6712732130"
   ]
  },
  {
   "cell_type": "code",
   "execution_count": 1,
   "id": "26793865-3bfb-4a05-96c7-3f33d628a300",
   "metadata": {},
   "outputs": [
    {
     "name": "stdout",
     "output_type": "stream",
     "text": [
      "hello, world\n"
     ]
    }
   ],
   "source": [
    "print(\"hello, world\")"
   ]
  },
  {
   "cell_type": "code",
   "execution_count": null,
   "id": "0522cc55-20a7-4abe-bd19-e9130c0c17dc",
   "metadata": {},
   "outputs": [],
   "source": []
  }
 ],
 "metadata": {
  "kernelspec": {
   "display_name": "Python 3 (ipykernel)",
   "language": "python",
   "name": "python3"
  },
  "language_info": {
   "codemirror_mode": {
    "name": "ipython",
    "version": 3
   },
   "file_extension": ".py",
   "mimetype": "text/x-python",
   "name": "python",
   "nbconvert_exporter": "python",
   "pygments_lexer": "ipython3",
   "version": "3.13.0"
  }
 },
 "nbformat": 4,
 "nbformat_minor": 5
}
